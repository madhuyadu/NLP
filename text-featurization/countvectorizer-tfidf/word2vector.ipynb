{
  "cells": [
    {
      "cell_type": "markdown",
      "id": "a2301c37",
      "metadata": {
        "id": "a2301c37"
      },
      "source": [
        "### Install & import necessary packages"
      ]
    },
    {
      "cell_type": "code",
      "execution_count": 1,
      "id": "88d53e29",
      "metadata": {
        "colab": {
          "base_uri": "https://localhost:8080/"
        },
        "id": "88d53e29",
        "outputId": "cadb1460-be29-495a-ed12-a8b7e15a49e5"
      },
      "outputs": [
        {
          "output_type": "stream",
          "name": "stdout",
          "text": [
            "\u001b[K     |████████████████████████████████| 24.1 MB 1.6 MB/s \n",
            "\u001b[?25h"
          ]
        }
      ],
      "source": [
        "!pip install --upgrade gensim -q\n",
        "!pip install matplotlib -q"
      ]
    },
    {
      "cell_type": "code",
      "execution_count": 2,
      "id": "128853c8",
      "metadata": {
        "id": "128853c8"
      },
      "outputs": [],
      "source": [
        "import gensim\n",
        "from gensim.models import word2vec          # pre-trained word vectors available in this\n",
        "from gensim.models.word2vec import Word2Vec\n",
        "import numpy as np\n",
        "import matplotlib.pyplot as plt\n",
        "import pandas as pd\n",
        "import spacy\n",
        "import string"
      ]
    },
    {
      "cell_type": "code",
      "execution_count": 3,
      "id": "dc0888ab",
      "metadata": {
        "id": "dc0888ab"
      },
      "outputs": [],
      "source": [
        "np.random.seed(42)"
      ]
    },
    {
      "cell_type": "code",
      "execution_count": 4,
      "id": "b0063c9d",
      "metadata": {
        "colab": {
          "base_uri": "https://localhost:8080/"
        },
        "id": "b0063c9d",
        "outputId": "b2112755-40c6-4c62-d1b6-28df790d7b89"
      },
      "outputs": [
        {
          "output_type": "stream",
          "name": "stdout",
          "text": [
            "['fasttext-wiki-news-subwords-300', 'conceptnet-numberbatch-17-06-300', 'word2vec-ruscorpora-300', 'word2vec-google-news-300', 'glove-wiki-gigaword-50', 'glove-wiki-gigaword-100', 'glove-wiki-gigaword-200', 'glove-wiki-gigaword-300', 'glove-twitter-25', 'glove-twitter-50', 'glove-twitter-100', 'glove-twitter-200', '__testing_word2vec-matrix-synopsis']\n"
          ]
        }
      ],
      "source": [
        "import gensim.downloader as api\n",
        "\n",
        "# Check the various pre-trained models available in gensim\n",
        "print(list(gensim.downloader.info()['models'].keys()))"
      ]
    },
    {
      "cell_type": "markdown",
      "id": "afc3de74",
      "metadata": {
        "id": "afc3de74"
      },
      "source": [
        "In the above cmd output, 'word2vec-ruscorpora-300' means word2vec model trained on ruscorpora dataset with 300 dimensions/features"
      ]
    },
    {
      "cell_type": "code",
      "execution_count": 5,
      "id": "6bcec974",
      "metadata": {
        "colab": {
          "base_uri": "https://localhost:8080/"
        },
        "id": "6bcec974",
        "outputId": "0a8dfece-4650-4b9c-f80e-98c183c3f86a"
      },
      "outputs": [
        {
          "output_type": "stream",
          "name": "stdout",
          "text": [
            "[==================================================] 100.0% 104.8/104.8MB downloaded\n"
          ]
        }
      ],
      "source": [
        "wv = api.load('glove-twitter-25') # Load the glove model trained on twitter dataset, having 25 features/dimensions"
      ]
    },
    {
      "cell_type": "code",
      "execution_count": 6,
      "id": "30bc409a",
      "metadata": {
        "colab": {
          "base_uri": "https://localhost:8080/"
        },
        "id": "30bc409a",
        "outputId": "9483ee79-caa9-4c20-cd9f-0cabc7b393dc"
      },
      "outputs": [
        {
          "output_type": "execute_result",
          "data": {
            "text/plain": [
              "gensim.models.keyedvectors.KeyedVectors"
            ]
          },
          "metadata": {},
          "execution_count": 6
        }
      ],
      "source": [
        "type(wv)  # type of word vector: KeyedVectors"
      ]
    },
    {
      "cell_type": "markdown",
      "id": "ae5e83ef",
      "metadata": {
        "id": "ae5e83ef"
      },
      "source": [
        "Vector representation of word 'Mango'"
      ]
    },
    {
      "cell_type": "code",
      "execution_count": 7,
      "id": "dc2d57be",
      "metadata": {
        "colab": {
          "base_uri": "https://localhost:8080/"
        },
        "id": "dc2d57be",
        "outputId": "cdd87895-3025-497a-b982-e38e3dcac3aa"
      },
      "outputs": [
        {
          "output_type": "execute_result",
          "data": {
            "text/plain": [
              "array([-1.124  , -0.63226,  0.1913 ,  0.87312, -0.45456,  0.9267 ,\n",
              "        0.11664, -0.37058,  0.24256, -0.18573,  0.84538, -1.3185 ,\n",
              "       -2.2011 , -0.79979,  0.35568, -0.47429,  1.3709 , -0.23235,\n",
              "        0.72   ,  1.3181 , -0.52016,  0.30828,  0.28982,  0.40124,\n",
              "        0.92812], dtype=float32)"
            ]
          },
          "metadata": {},
          "execution_count": 7
        }
      ],
      "source": [
        "wv['mango']"
      ]
    },
    {
      "cell_type": "markdown",
      "id": "58968854",
      "metadata": {
        "id": "58968854"
      },
      "source": [
        "Check the length of vector"
      ]
    },
    {
      "cell_type": "code",
      "execution_count": 8,
      "id": "717fba9a",
      "metadata": {
        "colab": {
          "base_uri": "https://localhost:8080/"
        },
        "id": "717fba9a",
        "outputId": "83072ae6-7839-45b7-e18d-b650eb8a0271"
      },
      "outputs": [
        {
          "output_type": "execute_result",
          "data": {
            "text/plain": [
              "25"
            ]
          },
          "metadata": {},
          "execution_count": 8
        }
      ],
      "source": [
        "len(wv['mango'])  #dimension will be 25 !!"
      ]
    },
    {
      "cell_type": "markdown",
      "id": "e38b6323",
      "metadata": {
        "id": "e38b6323"
      },
      "source": [
        "You can save and also load the vectors for future use !!"
      ]
    },
    {
      "cell_type": "code",
      "execution_count": 9,
      "id": "56fa04c8",
      "metadata": {
        "id": "56fa04c8"
      },
      "outputs": [],
      "source": [
        "from gensim.models import KeyedVectors\n",
        "\n",
        "# wv = api.load('word2vec-google-news-300')\n",
        "# wv.save('/content/drive/MyDrive/Content Creation/Youtube Tutorials/vectors.kv')\n",
        " # wv = KeyedVectors.load('/content/drive/MyDrive/Content Creation/Youtube Tutorials/vectors.kv')"
      ]
    },
    {
      "cell_type": "markdown",
      "id": "5d8721ea",
      "metadata": {
        "id": "5d8721ea"
      },
      "source": [
        "Check the similarity between orange and jackfruit"
      ]
    },
    {
      "cell_type": "code",
      "execution_count": 10,
      "id": "0deab920",
      "metadata": {
        "colab": {
          "base_uri": "https://localhost:8080/"
        },
        "id": "0deab920",
        "outputId": "d9c60eb0-0f3a-4736-821a-dcba105433f9"
      },
      "outputs": [
        {
          "output_type": "execute_result",
          "data": {
            "text/plain": [
              "0.13519602"
            ]
          },
          "metadata": {},
          "execution_count": 10
        }
      ],
      "source": [
        "wv.similarity(\"orange\", \"jackfruit\")  # its pretty bad, but ideally we expect better similarity. This number will improve\n",
        "# with bigger models, trained on huge datasets and vectors with more no of features (say 300, for example)"
      ]
    },
    {
      "cell_type": "code",
      "execution_count": 11,
      "id": "d0e45b62",
      "metadata": {
        "colab": {
          "base_uri": "https://localhost:8080/"
        },
        "id": "d0e45b62",
        "outputId": "35d4540c-3c4a-4066-ca8e-704b22379863"
      },
      "outputs": [
        {
          "output_type": "execute_result",
          "data": {
            "text/plain": [
              "0.70833313"
            ]
          },
          "metadata": {},
          "execution_count": 11
        }
      ],
      "source": [
        "wv.similarity(\"apple\", \"car\")  # this is again not acceptable !!"
      ]
    },
    {
      "cell_type": "markdown",
      "id": "df1f401a",
      "metadata": {
        "id": "df1f401a"
      },
      "source": [
        "Few more examples related to similarity between word vectors"
      ]
    },
    {
      "cell_type": "code",
      "execution_count": 12,
      "id": "543ac341",
      "metadata": {
        "colab": {
          "base_uri": "https://localhost:8080/"
        },
        "id": "543ac341",
        "outputId": "0563090f-f093-4cdc-a6aa-7a3d48ff58cd"
      },
      "outputs": [
        {
          "output_type": "stream",
          "name": "stdout",
          "text": [
            "'car'\t'minivan'\t0.50\n",
            "'bike'\t'bicycle'\t0.81\n",
            "'flight'\t'airplane'\t0.72\n",
            "'auto'\t'tomato'\t0.10\n",
            "'car'\t'communism'\t0.11\n"
          ]
        }
      ],
      "source": [
        "pairs = [\n",
        "    ('car', 'minivan'),   # a minivan is a kind of car\n",
        "    ('bike', 'bicycle'),   # still a wheeled vehicle\n",
        "    ('flight', 'airplane'),  # ok, no wheels, but still a vehicle\n",
        "    ('auto', 'tomato'),    # ... and so on\n",
        "    ('car', 'communism'),\n",
        "]\n",
        "for w1, w2 in pairs:\n",
        "    print('%r\\t%r\\t%.2f' % (w1, w2, wv.similarity(w1, w2)))"
      ]
    },
    {
      "cell_type": "markdown",
      "id": "5525b5d4",
      "metadata": {
        "id": "5525b5d4"
      },
      "source": [
        "Print words most similar to car and truck"
      ]
    },
    {
      "cell_type": "code",
      "execution_count": 13,
      "id": "bdd3f11b",
      "metadata": {
        "colab": {
          "base_uri": "https://localhost:8080/"
        },
        "id": "bdd3f11b",
        "outputId": "bd9a0903-52af-4fe2-e77b-26da2f254fb0"
      },
      "outputs": [
        {
          "output_type": "stream",
          "name": "stdout",
          "text": [
            "[('front', 0.9311097264289856), ('seat', 0.9150131344795227), ('parking', 0.9011927843093872), ('cab', 0.8941381573677063), ('table', 0.8902772665023804)]\n"
          ]
        }
      ],
      "source": [
        "print(wv.most_similar(positive=['car', 'truck'], topn=5))  #print top 5 similar words"
      ]
    },
    {
      "cell_type": "markdown",
      "id": "469c0a76",
      "metadata": {
        "id": "469c0a76"
      },
      "source": [
        "Display the ODD ONE OUT word in the list below"
      ]
    },
    {
      "cell_type": "code",
      "execution_count": 14,
      "id": "0cdb4d90",
      "metadata": {
        "colab": {
          "base_uri": "https://localhost:8080/"
        },
        "id": "0cdb4d90",
        "outputId": "6b993411-700a-42a2-b206-f8c80b65c2cc"
      },
      "outputs": [
        {
          "output_type": "stream",
          "name": "stdout",
          "text": [
            "sea\n"
          ]
        }
      ],
      "source": [
        "print(wv.doesnt_match(['fire', 'water', 'land', 'sea', 'air', 'bike']))"
      ]
    },
    {
      "cell_type": "markdown",
      "source": [
        "display words similar to woman and king but different to man"
      ],
      "metadata": {
        "id": "fRWpZ62y0TjA"
      },
      "id": "fRWpZ62y0TjA"
    },
    {
      "cell_type": "code",
      "execution_count": 15,
      "id": "f4ab83f9",
      "metadata": {
        "colab": {
          "base_uri": "https://localhost:8080/"
        },
        "id": "f4ab83f9",
        "outputId": "6f5deebf-24cf-461c-b7ba-bcf2489e119b"
      },
      "outputs": [
        {
          "output_type": "execute_result",
          "data": {
            "text/plain": [
              "[('meets', 0.8841924071311951),\n",
              " ('prince', 0.832163393497467),\n",
              " ('queen', 0.8257461190223694)]"
            ]
          },
          "metadata": {},
          "execution_count": 15
        }
      ],
      "source": [
        "wv.most_similar(positive=['woman', 'king'], negative=['man'], topn=3)"
      ]
    },
    {
      "cell_type": "code",
      "execution_count": 16,
      "id": "2129785d",
      "metadata": {
        "colab": {
          "base_uri": "https://localhost:8080/"
        },
        "id": "2129785d",
        "outputId": "9d216481-35f6-4038-ac02-c461a327ed98"
      },
      "outputs": [
        {
          "output_type": "execute_result",
          "data": {
            "text/plain": [
              "[('lady', 0.9231982827186584),\n",
              " ('called', 0.9227930307388306),\n",
              " (\"'s\", 0.9222202301025391)]"
            ]
          },
          "metadata": {},
          "execution_count": 16
        }
      ],
      "source": [
        "wv.most_similar(positive=['woman', 'king'], topn=3)"
      ]
    },
    {
      "cell_type": "markdown",
      "source": [
        "**Visualization of word vectors**"
      ],
      "metadata": {
        "id": "IBz3wKvH0inB"
      },
      "id": "IBz3wKvH0inB"
    },
    {
      "cell_type": "code",
      "execution_count": 18,
      "id": "c23a6fdb",
      "metadata": {
        "colab": {
          "base_uri": "https://localhost:8080/"
        },
        "id": "c23a6fdb",
        "outputId": "4cf75246-7dec-46e0-f485-9ba8c3b4ca32"
      },
      "outputs": [
        {
          "output_type": "execute_result",
          "data": {
            "text/plain": [
              "array([[-1.4320724 ,  0.90533096],\n",
              "       [-0.1070174 ,  2.0883384 ],\n",
              "       [-1.5798286 , -2.0424688 ],\n",
              "       [ 0.0723922 , -0.40048406],\n",
              "       [ 3.0465262 , -0.55071616]], dtype=float32)"
            ]
          },
          "metadata": {},
          "execution_count": 18
        }
      ],
      "source": [
        "words = [\"one\",'five','man','king','chair']  # sample words for visualization\n",
        "sample_vectors = np.array([wv[word] for word in words])\n",
        "from sklearn.decomposition import PCA\n",
        "pca = PCA(n_components=2)  # visualize on 2D plane (this vector originally has 25 dimensions !!)\n",
        "result = pca.fit_transform(sample_vectors)\n",
        "result  #2D vector representation of the words as in line 1"
      ]
    },
    {
      "cell_type": "code",
      "source": [
        "plt.figure(figsize=(12,12))\n",
        "plt.scatter(result[:,0], result[:,1])\n",
        "for i, word in enumerate(words):\n",
        "    plt.annotate(word, xy=(result[i, 0], result[i, 1]))\n",
        "plt.show()  # with better word2vec model with large dimensions, you will see that similar words appear closer in the space !!"
      ],
      "metadata": {
        "colab": {
          "base_uri": "https://localhost:8080/",
          "height": 700
        },
        "id": "iDSwdfqu0e9H",
        "outputId": "b3df6a08-a7a5-4d7f-ae71-28cea413a041"
      },
      "id": "iDSwdfqu0e9H",
      "execution_count": 19,
      "outputs": [
        {
          "output_type": "display_data",
          "data": {
            "text/plain": [
              "<Figure size 864x864 with 1 Axes>"
            ],
            "image/png": "[encoded data removed]"
          },
          "metadata": {
            "needs_background": "light"
          }
        }
      ]
    },
    {
      "cell_type": "markdown",
      "source": [
        "**Model with word2vec featurization**"
      ],
      "metadata": {
        "id": "xSj4iK6H1VYl"
      },
      "id": "xSj4iK6H1VYl"
    },
    {
      "cell_type": "code",
      "source": [
        "data = pd.read_csv(\"train.csv\",error_bad_lines=False, engine=\"python\")\n",
        "\n",
        "# Filter out only first 1000 rows & select only 'toxic' & 'comment_text' columns\n",
        "data = data[:1000][['comment_text', 'toxic']]\n",
        "data.head()"
      ],
      "metadata": {
        "colab": {
          "base_uri": "https://localhost:8080/",
          "height": 313
        },
        "id": "z29DRyWg0fAQ",
        "outputId": "4f4672e8-f802-4495-f944-9d2c8bba55d7"
      },
      "id": "z29DRyWg0fAQ",
      "execution_count": 20,
      "outputs": [
        {
          "output_type": "stream",
          "name": "stderr",
          "text": [
            "/usr/local/lib/python3.7/dist-packages/IPython/core/interactiveshell.py:3326: FutureWarning: The error_bad_lines argument has been deprecated and will be removed in a future version.\n",
            "\n",
            "\n",
            "  exec(code_obj, self.user_global_ns, self.user_ns)\n",
            "Skipping line 2431: unexpected end of data\n"
          ]
        },
        {
          "output_type": "execute_result",
          "data": {
            "text/plain": [
              "                                        comment_text  toxic\n",
              "0  Explanation\\nWhy the edits made under my usern...      0\n",
              "1  D'aww! He matches this background colour I'm s...      0\n",
              "2  Hey man, I'm really not trying to edit war. It...      0\n",
              "3  \"\\nMore\\nI can't make any real suggestions on ...      0\n",
              "4  You, sir, are my hero. Any chance you remember...      0"
            ],
            "text/html": [
              "\n",
              "  <div id=\"df-aacab602-c461-4b3d-b992-6b36981079c7\">\n",
              "    <div class=\"colab-df-container\">\n",
              "      <div>\n",
              "<style scoped>\n",
              "    .dataframe tbody tr th:only-of-type {\n",
              "        vertical-align: middle;\n",
              "    }\n",
              "\n",
              "    .dataframe tbody tr th {\n",
              "        vertical-align: top;\n",
              "    }\n",
              "\n",
              "    .dataframe thead th {\n",
              "        text-align: right;\n",
              "    }\n",
              "</style>\n",
              "<table border=\"1\" class=\"dataframe\">\n",
              "  <thead>\n",
              "    <tr style=\"text-align: right;\">\n",
              "      <th></th>\n",
              "      <th>comment_text</th>\n",
              "      <th>toxic</th>\n",
              "    </tr>\n",
              "  </thead>\n",
              "  <tbody>\n",
              "    <tr>\n",
              "      <th>0</th>\n",
              "      <td>Explanation\\nWhy the edits made under my usern...</td>\n",
              "      <td>0</td>\n",
              "    </tr>\n",
              "    <tr>\n",
              "      <th>1</th>\n",
              "      <td>D'aww! He matches this background colour I'm s...</td>\n",
              "      <td>0</td>\n",
              "    </tr>\n",
              "    <tr>\n",
              "      <th>2</th>\n",
              "      <td>Hey man, I'm really not trying to edit war. It...</td>\n",
              "      <td>0</td>\n",
              "    </tr>\n",
              "    <tr>\n",
              "      <th>3</th>\n",
              "      <td>\"\\nMore\\nI can't make any real suggestions on ...</td>\n",
              "      <td>0</td>\n",
              "    </tr>\n",
              "    <tr>\n",
              "      <th>4</th>\n",
              "      <td>You, sir, are my hero. Any chance you remember...</td>\n",
              "      <td>0</td>\n",
              "    </tr>\n",
              "  </tbody>\n",
              "</table>\n",
              "</div>\n",
              "      <button class=\"colab-df-convert\" onclick=\"convertToInteractive('df-aacab602-c461-4b3d-b992-6b36981079c7')\"\n",
              "              title=\"Convert this dataframe to an interactive table.\"\n",
              "              style=\"display:none;\">\n",
              "        \n",
              "  <svg xmlns=\"http://www.w3.org/2000/svg\" height=\"24px\"viewBox=\"0 0 24 24\"\n",
              "       width=\"24px\">\n",
              "    <path d=\"M0 0h24v24H0V0z\" fill=\"none\"/>\n",
              "    <path d=\"M18.56 5.44l.94 2.06.94-2.06 2.06-.94-2.06-.94-.94-2.06-.94 2.06-2.06.94zm-11 1L8.5 8.5l.94-2.06 2.06-.94-2.06-.94L8.5 2.5l-.94 2.06-2.06.94zm10 10l.94 2.06.94-2.06 2.06-.94-2.06-.94-.94-2.06-.94 2.06-2.06.94z\"/><path d=\"M17.41 7.96l-1.37-1.37c-.4-.4-.92-.59-1.43-.59-.52 0-1.04.2-1.43.59L10.3 9.45l-7.72 7.72c-.78.78-.78 2.05 0 2.83L4 21.41c.39.39.9.59 1.41.59.51 0 1.02-.2 1.41-.59l7.78-7.78 2.81-2.81c.8-.78.8-2.07 0-2.86zM5.41 20L4 18.59l7.72-7.72 1.47 1.35L5.41 20z\"/>\n",
              "  </svg>\n",
              "      </button>\n",
              "      \n",
              "  <style>\n",
              "    .colab-df-container {\n",
              "      display:flex;\n",
              "      flex-wrap:wrap;\n",
              "      gap: 12px;\n",
              "    }\n",
              "\n",
              "    .colab-df-convert {\n",
              "      background-color: #E8F0FE;\n",
              "      border: none;\n",
              "      border-radius: 50%;\n",
              "      cursor: pointer;\n",
              "      display: none;\n",
              "      fill: #1967D2;\n",
              "      height: 32px;\n",
              "      padding: 0 0 0 0;\n",
              "      width: 32px;\n",
              "    }\n",
              "\n",
              "    .colab-df-convert:hover {\n",
              "      background-color: #E2EBFA;\n",
              "      box-shadow: 0px 1px 2px rgba(60, 64, 67, 0.3), 0px 1px 3px 1px rgba(60, 64, 67, 0.15);\n",
              "      fill: #174EA6;\n",
              "    }\n",
              "\n",
              "    [theme=dark] .colab-df-convert {\n",
              "      background-color: #3B4455;\n",
              "      fill: #D2E3FC;\n",
              "    }\n",
              "\n",
              "    [theme=dark] .colab-df-convert:hover {\n",
              "      background-color: #434B5C;\n",
              "      box-shadow: 0px 1px 3px 1px rgba(0, 0, 0, 0.15);\n",
              "      filter: drop-shadow(0px 1px 2px rgba(0, 0, 0, 0.3));\n",
              "      fill: #FFFFFF;\n",
              "    }\n",
              "  </style>\n",
              "\n",
              "      <script>\n",
              "        const buttonEl =\n",
              "          document.querySelector('#df-aacab602-c461-4b3d-b992-6b36981079c7 button.colab-df-convert');\n",
              "        buttonEl.style.display =\n",
              "          google.colab.kernel.accessAllowed ? 'block' : 'none';\n",
              "\n",
              "        async function convertToInteractive(key) {\n",
              "          const element = document.querySelector('#df-aacab602-c461-4b3d-b992-6b36981079c7');\n",
              "          const dataTable =\n",
              "            await google.colab.kernel.invokeFunction('convertToInteractive',\n",
              "                                                     [key], {});\n",
              "          if (!dataTable) return;\n",
              "\n",
              "          const docLinkHtml = 'Like what you see? Visit the ' +\n",
              "            '<a target=\"_blank\" href=https://colab.research.google.com/notebooks/data_table.ipynb>data table notebook</a>'\n",
              "            + ' to learn more about interactive tables.';\n",
              "          element.innerHTML = '';\n",
              "          dataTable['output_type'] = 'display_data';\n",
              "          await google.colab.output.renderOutput(dataTable, element);\n",
              "          const docLink = document.createElement('div');\n",
              "          docLink.innerHTML = docLinkHtml;\n",
              "          element.appendChild(docLink);\n",
              "        }\n",
              "      </script>\n",
              "    </div>\n",
              "  </div>\n",
              "  "
            ]
          },
          "metadata": {},
          "execution_count": 20
        }
      ]
    },
    {
      "cell_type": "markdown",
      "source": [
        "Below function takes vector representation of each word, sums it up & then takes average and stores the same of vector representation for the entire sentence"
      ],
      "metadata": {
        "id": "BHYv9-c911-f"
      },
      "id": "BHYv9-c911-f"
    },
    {
      "cell_type": "code",
      "source": [
        "def sent_vec(sent):\n",
        "    vector_size = wv.vector_size\n",
        "    wv_res = np.zeros(vector_size)  #create zero matrix and then populate later one by one\n",
        "    word_count = 1\n",
        "    for w in sent:    #iterate through each word in the sentence\n",
        "        if w in wv:\n",
        "            word_count += 1\n",
        "            wv_res += wv[w]\n",
        "    wv_res = wv_res/word_count  # average of word vectors of all the words within a given sentence\n",
        "    return wv_res"
      ],
      "metadata": {
        "id": "uMfEByqc0fDG"
      },
      "id": "uMfEByqc0fDG",
      "execution_count": 21,
      "outputs": []
    },
    {
      "cell_type": "markdown",
      "source": [
        "Function for tokenization"
      ],
      "metadata": {
        "id": "1zkPsSY82TFN"
      },
      "id": "1zkPsSY82TFN"
    },
    {
      "cell_type": "code",
      "source": [
        "# Creating our tokenizer function\n",
        "def spacy_tokenizer(sentence):\n",
        "    # Creating our token object, which is used to create documents with linguistic annotations.\n",
        "    doc = nlp(sentence)\n",
        "\n",
        "    # Lemmatizing each token and converting each token into lowercase\n",
        "    mytokens = [ word.lemma_.lower().strip() for word in doc ]\n",
        "\n",
        "    # Removing stop words\n",
        "    mytokens = [ word for word in mytokens if word not in stop_words and word not in punctuations ]\n",
        "\n",
        "    # return preprocessed list of tokens\n",
        "    return mytokens"
      ],
      "metadata": {
        "id": "yc5FSnf70fF6"
      },
      "id": "yc5FSnf70fF6",
      "execution_count": 22,
      "outputs": []
    },
    {
      "cell_type": "code",
      "source": [
        "sent_vec(\"I am not feeling good today\") #sample sentence vector representation, it has 25 dims !!"
      ],
      "metadata": {
        "colab": {
          "base_uri": "https://localhost:8080/"
        },
        "id": "mUw7tHwL0fIg",
        "outputId": "f690c7b5-3b8c-43d1-d344-024dc0ac1a65"
      },
      "id": "mUw7tHwL0fIg",
      "execution_count": 23,
      "outputs": [
        {
          "output_type": "execute_result",
          "data": {
            "text/plain": [
              "array([ 6.85060458e-01,  2.20840913e-01, -9.05847373e-02,  7.85981186e-03,\n",
              "        3.87013707e-02,  1.83858949e-01, -1.45697546e-01,  1.96917916e+00,\n",
              "       -2.77963552e-03, -9.44653638e-02, -4.57309088e-01, -1.24269910e+00,\n",
              "       -3.54199545e+00, -1.12625356e-02, -6.77545453e-01, -4.69620447e-01,\n",
              "       -8.27152269e-01, -2.76762079e-02, -7.64024546e-01,  2.63502734e-01,\n",
              "       -1.35344086e-01, -3.12117722e-01,  4.18619231e-01,  3.41334673e-01,\n",
              "        3.52228813e-01])"
            ]
          },
          "metadata": {},
          "execution_count": 23
        }
      ]
    },
    {
      "cell_type": "code",
      "source": [
        "nlp = spacy.load(\"en_core_web_sm\")\n",
        "stop_words = nlp.Defaults.stop_words\n",
        "print(stop_words)"
      ],
      "metadata": {
        "colab": {
          "base_uri": "https://localhost:8080/"
        },
        "id": "lAvWXQhN0fLQ",
        "outputId": "526e0b4f-274a-4021-cfef-ed2ef6fe21d7"
      },
      "id": "lAvWXQhN0fLQ",
      "execution_count": 24,
      "outputs": [
        {
          "output_type": "stream",
          "name": "stdout",
          "text": [
            "{'‘ve', 'throughout', 'been', 'a', 'sixty', 'now', 'have', 'cannot', 'fifteen', 'even', 'whom', 'further', 'others', 'could', 'either', '’re', 'once', 'me', 'full', 'that', 'latterly', 'who', 'used', 'beforehand', 'them', 'ever', '‘d', 'was', 'most', 'without', 'of', 'to', 'formerly', 'hers', 'towards', 'before', 'nine', 'it', 'ourselves', 'across', 'why', \"'re\", 'both', 'ca', 'or', \"'s\", 'so', 'on', 'our', 'herself', 'under', 'when', 'amongst', 'his', 'still', 'such', 'move', 'ten', 'beside', 'these', 'please', 'elsewhere', '’ve', 'hereafter', 'mine', 'are', 'down', \"'d\", 'yourselves', 'had', 'too', 'themselves', 'seem', 'moreover', 'becoming', 'behind', 'part', '’m', 'everyone', 'during', 'himself', 'thereupon', 'neither', 'well', '’ll', 'yours', 'therein', 'from', 'besides', 'not', 'front', 'if', 'back', 'no', 'up', 'your', 'off', 'anywhere', 'else', 'between', 'really', 'third', 'seeming', 'him', 'after', 'except', 'take', 'would', 'hereupon', 'doing', 'again', 'several', 'each', 'am', 'show', 'last', 'be', 'always', 'twenty', 'six', 'three', 'how', 'forty', 'keep', 'noone', 'together', 'whither', \"'m\", 'whatever', 'is', 'about', 'however', 'via', 'afterwards', 'first', 'into', 'while', 'almost', 'yourself', 'she', 'there', 'latter', 'and', 'call', 'sometime', 'whole', 'whoever', 'rather', 'can', 'also', 'below', 'its', 'amount', 'itself', 'we', 'someone', 'anything', 'thereafter', 'yet', 'toward', 'none', 'by', 'seems', '‘re', 'empty', 'nowhere', 'alone', '’s', 'nothing', 'give', 'might', 'around', 'top', 'due', 'quite', 'bottom', 'hereby', 'get', 'name', 'within', 'something', 'some', 'mostly', 'every', \"'ll\", 'ours', 'against', 'becomes', 'you', 'this', 'here', 'already', 'less', 'because', 'should', 'see', 'eleven', 'but', 'serious', 'nobody', 'he', 'then', 'become', 'therefore', 'myself', 'somehow', 'than', 'those', 'per', 'everything', 'anyhow', 'at', 'though', 'former', 'hence', 'perhaps', 'indeed', 'seemed', 'with', \"'ve\", 'often', 'meanwhile', 'never', 'whenever', 'made', 'nevertheless', 'only', 'whereas', 'may', 'n’t', 'whose', 're', 'her', 'four', 'over', 'very', 'nor', 'in', 'among', 'just', 'using', 'other', 'few', 'for', 'whereafter', 'five', 'next', 'although', 'n‘t', '’d', 'out', 'i', 'somewhere', 'wherever', 'along', 'two', 'being', 'what', 'since', 'where', 'did', 'became', 'namely', 'us', '‘s', 'side', 'does', 'sometimes', 'much', 'done', 'twelve', 'their', 'another', 'which', 'onto', 'will', 'make', 'my', 'hundred', 'go', 'many', '‘ll', 'enough', 'all', 'otherwise', 'least', 'thru', 'one', 'everywhere', 'herein', 'were', \"n't\", 'whether', 'more', 'unless', 'whence', 'do', 'thus', 'through', '‘m', 'an', 'above', 'thereby', 'eight', 'beyond', 'they', 'whereupon', 'upon', 'anyone', 'whereby', 'as', 'the', 'any', 'thence', 'own', 'various', 'regarding', 'same', 'say', 'has', 'until', 'must', 'anyway', 'wherein', 'put', 'fifty'}\n"
          ]
        }
      ]
    },
    {
      "cell_type": "code",
      "source": [
        "punctuations = string.punctuation\n",
        "print(punctuations)"
      ],
      "metadata": {
        "colab": {
          "base_uri": "https://localhost:8080/"
        },
        "id": "7kOXS0tq2lzV",
        "outputId": "18de77e3-770f-4d5f-f4fa-f3c7500237c0"
      },
      "id": "7kOXS0tq2lzV",
      "execution_count": 25,
      "outputs": [
        {
          "output_type": "stream",
          "name": "stdout",
          "text": [
            "!\"#$%&'()*+,-./:;<=>?@[\\]^_`{|}~\n"
          ]
        }
      ]
    },
    {
      "cell_type": "code",
      "source": [
        "data['tokens'] = data['comment_text'].apply(spacy_tokenizer)  # apply tokenization first\n",
        "data['vec'] = data['tokens'].apply(sent_vec)  # convert to sentence vectors\n",
        "data.head(5)"
      ],
      "metadata": {
        "colab": {
          "base_uri": "https://localhost:8080/",
          "height": 206
        },
        "id": "8gDe_jGe2l2V",
        "outputId": "f8183bbe-a142-4c0d-f40a-ca35a1955966"
      },
      "id": "8gDe_jGe2l2V",
      "execution_count": 26,
      "outputs": [
        {
          "output_type": "execute_result",
          "data": {
            "text/plain": [
              "                                        comment_text  toxic  \\\n",
              "0  Explanation\\nWhy the edits made under my usern...      0   \n",
              "1  D'aww! He matches this background colour I'm s...      0   \n",
              "2  Hey man, I'm really not trying to edit war. It...      0   \n",
              "3  \"\\nMore\\nI can't make any real suggestions on ...      0   \n",
              "4  You, sir, are my hero. Any chance you remember...      0   \n",
              "\n",
              "                                              tokens  \\\n",
              "0  [explanation, edit, username, hardcore, metall...   \n",
              "1  [d'aww, match, background, colour, seemingly, ...   \n",
              "2  [hey, man, try, edit, war, guy, constantly, re...   \n",
              "3  [real, suggestion, improvement, wonder, sectio...   \n",
              "4                [sir, hero, chance, remember, page]   \n",
              "\n",
              "                                                 vec  \n",
              "0  [0.12291280907534417, 0.27500737658036606, -0....  \n",
              "1  [-0.21229873089627785, -0.03393893021116541, -...  \n",
              "2  [0.2536078045610338, 0.37248320020735265, -0.1...  \n",
              "3  [0.3082034207153611, 0.2215451443704163, -0.07...  \n",
              "4  [0.09727999940514565, 0.10916283167898655, 0.0...  "
            ],
            "text/html": [
              "\n",
              "  <div id=\"df-d277d697-c7a1-4ca7-a42e-b823877f1f84\">\n",
              "    <div class=\"colab-df-container\">\n",
              "      <div>\n",
              "<style scoped>\n",
              "    .dataframe tbody tr th:only-of-type {\n",
              "        vertical-align: middle;\n",
              "    }\n",
              "\n",
              "    .dataframe tbody tr th {\n",
              "        vertical-align: top;\n",
              "    }\n",
              "\n",
              "    .dataframe thead th {\n",
              "        text-align: right;\n",
              "    }\n",
              "</style>\n",
              "<table border=\"1\" class=\"dataframe\">\n",
              "  <thead>\n",
              "    <tr style=\"text-align: right;\">\n",
              "      <th></th>\n",
              "      <th>comment_text</th>\n",
              "      <th>toxic</th>\n",
              "      <th>tokens</th>\n",
              "      <th>vec</th>\n",
              "    </tr>\n",
              "  </thead>\n",
              "  <tbody>\n",
              "    <tr>\n",
              "      <th>0</th>\n",
              "      <td>Explanation\\nWhy the edits made under my usern...</td>\n",
              "      <td>0</td>\n",
              "      <td>[explanation, edit, username, hardcore, metall...</td>\n",
              "      <td>[0.12291280907534417, 0.27500737658036606, -0....</td>\n",
              "    </tr>\n",
              "    <tr>\n",
              "      <th>1</th>\n",
              "      <td>D'aww! He matches this background colour I'm s...</td>\n",
              "      <td>0</td>\n",
              "      <td>[d'aww, match, background, colour, seemingly, ...</td>\n",
              "      <td>[-0.21229873089627785, -0.03393893021116541, -...</td>\n",
              "    </tr>\n",
              "    <tr>\n",
              "      <th>2</th>\n",
              "      <td>Hey man, I'm really not trying to edit war. It...</td>\n",
              "      <td>0</td>\n",
              "      <td>[hey, man, try, edit, war, guy, constantly, re...</td>\n",
              "      <td>[0.2536078045610338, 0.37248320020735265, -0.1...</td>\n",
              "    </tr>\n",
              "    <tr>\n",
              "      <th>3</th>\n",
              "      <td>\"\\nMore\\nI can't make any real suggestions on ...</td>\n",
              "      <td>0</td>\n",
              "      <td>[real, suggestion, improvement, wonder, sectio...</td>\n",
              "      <td>[0.3082034207153611, 0.2215451443704163, -0.07...</td>\n",
              "    </tr>\n",
              "    <tr>\n",
              "      <th>4</th>\n",
              "      <td>You, sir, are my hero. Any chance you remember...</td>\n",
              "      <td>0</td>\n",
              "      <td>[sir, hero, chance, remember, page]</td>\n",
              "      <td>[0.09727999940514565, 0.10916283167898655, 0.0...</td>\n",
              "    </tr>\n",
              "  </tbody>\n",
              "</table>\n",
              "</div>\n",
              "      <button class=\"colab-df-convert\" onclick=\"convertToInteractive('df-d277d697-c7a1-4ca7-a42e-b823877f1f84')\"\n",
              "              title=\"Convert this dataframe to an interactive table.\"\n",
              "              style=\"display:none;\">\n",
              "        \n",
              "  <svg xmlns=\"http://www.w3.org/2000/svg\" height=\"24px\"viewBox=\"0 0 24 24\"\n",
              "       width=\"24px\">\n",
              "    <path d=\"M0 0h24v24H0V0z\" fill=\"none\"/>\n",
              "    <path d=\"M18.56 5.44l.94 2.06.94-2.06 2.06-.94-2.06-.94-.94-2.06-.94 2.06-2.06.94zm-11 1L8.5 8.5l.94-2.06 2.06-.94-2.06-.94L8.5 2.5l-.94 2.06-2.06.94zm10 10l.94 2.06.94-2.06 2.06-.94-2.06-.94-.94-2.06-.94 2.06-2.06.94z\"/><path d=\"M17.41 7.96l-1.37-1.37c-.4-.4-.92-.59-1.43-.59-.52 0-1.04.2-1.43.59L10.3 9.45l-7.72 7.72c-.78.78-.78 2.05 0 2.83L4 21.41c.39.39.9.59 1.41.59.51 0 1.02-.2 1.41-.59l7.78-7.78 2.81-2.81c.8-.78.8-2.07 0-2.86zM5.41 20L4 18.59l7.72-7.72 1.47 1.35L5.41 20z\"/>\n",
              "  </svg>\n",
              "      </button>\n",
              "      \n",
              "  <style>\n",
              "    .colab-df-container {\n",
              "      display:flex;\n",
              "      flex-wrap:wrap;\n",
              "      gap: 12px;\n",
              "    }\n",
              "\n",
              "    .colab-df-convert {\n",
              "      background-color: #E8F0FE;\n",
              "      border: none;\n",
              "      border-radius: 50%;\n",
              "      cursor: pointer;\n",
              "      display: none;\n",
              "      fill: #1967D2;\n",
              "      height: 32px;\n",
              "      padding: 0 0 0 0;\n",
              "      width: 32px;\n",
              "    }\n",
              "\n",
              "    .colab-df-convert:hover {\n",
              "      background-color: #E2EBFA;\n",
              "      box-shadow: 0px 1px 2px rgba(60, 64, 67, 0.3), 0px 1px 3px 1px rgba(60, 64, 67, 0.15);\n",
              "      fill: #174EA6;\n",
              "    }\n",
              "\n",
              "    [theme=dark] .colab-df-convert {\n",
              "      background-color: #3B4455;\n",
              "      fill: #D2E3FC;\n",
              "    }\n",
              "\n",
              "    [theme=dark] .colab-df-convert:hover {\n",
              "      background-color: #434B5C;\n",
              "      box-shadow: 0px 1px 3px 1px rgba(0, 0, 0, 0.15);\n",
              "      filter: drop-shadow(0px 1px 2px rgba(0, 0, 0, 0.3));\n",
              "      fill: #FFFFFF;\n",
              "    }\n",
              "  </style>\n",
              "\n",
              "      <script>\n",
              "        const buttonEl =\n",
              "          document.querySelector('#df-d277d697-c7a1-4ca7-a42e-b823877f1f84 button.colab-df-convert');\n",
              "        buttonEl.style.display =\n",
              "          google.colab.kernel.accessAllowed ? 'block' : 'none';\n",
              "\n",
              "        async function convertToInteractive(key) {\n",
              "          const element = document.querySelector('#df-d277d697-c7a1-4ca7-a42e-b823877f1f84');\n",
              "          const dataTable =\n",
              "            await google.colab.kernel.invokeFunction('convertToInteractive',\n",
              "                                                     [key], {});\n",
              "          if (!dataTable) return;\n",
              "\n",
              "          const docLinkHtml = 'Like what you see? Visit the ' +\n",
              "            '<a target=\"_blank\" href=https://colab.research.google.com/notebooks/data_table.ipynb>data table notebook</a>'\n",
              "            + ' to learn more about interactive tables.';\n",
              "          element.innerHTML = '';\n",
              "          dataTable['output_type'] = 'display_data';\n",
              "          await google.colab.output.renderOutput(dataTable, element);\n",
              "          const docLink = document.createElement('div');\n",
              "          docLink.innerHTML = docLinkHtml;\n",
              "          element.appendChild(docLink);\n",
              "        }\n",
              "      </script>\n",
              "    </div>\n",
              "  </div>\n",
              "  "
            ]
          },
          "metadata": {},
          "execution_count": 26
        }
      ]
    },
    {
      "cell_type": "code",
      "source": [
        "X = data['vec'].to_list()  #features\n",
        "y = data['toxic'].to_list()  #target"
      ],
      "metadata": {
        "id": "xTNXraix2l5n"
      },
      "id": "xTNXraix2l5n",
      "execution_count": 28,
      "outputs": []
    },
    {
      "cell_type": "code",
      "source": [
        "X[:5] #observe the first 5 elements: list of arrays for each sentence"
      ],
      "metadata": {
        "colab": {
          "base_uri": "https://localhost:8080/"
        },
        "id": "boHYm7Lj2l8E",
        "outputId": "020e29ec-d163-4313-810b-0095c87f355f"
      },
      "id": "boHYm7Lj2l8E",
      "execution_count": 32,
      "outputs": [
        {
          "output_type": "execute_result",
          "data": {
            "text/plain": [
              "[array([ 1.22912809e-01,  2.75007377e-01, -7.54328630e-02, -3.08094479e-02,\n",
              "         1.92663576e-01, -4.65705214e-01,  4.26312385e-01, -2.17553578e-01,\n",
              "         3.26301236e-01, -2.62275472e-01, -4.09861459e-03,  1.05846237e-01,\n",
              "        -2.52248574e+00, -3.00058844e-01,  1.41273811e-01,  4.13665231e-01,\n",
              "         1.47382223e-01, -1.94045241e-01,  2.18924188e-03, -6.46920928e-02,\n",
              "        -2.68119382e-01, -3.16457997e-01, -9.44345742e-02, -2.77445862e-01,\n",
              "        -3.76880864e-01]),\n",
              " array([-0.21229873, -0.03393893, -0.04240327, -0.36306563, -0.22737673,\n",
              "        -0.13472909,  0.91782092, -0.41678499, -0.04983384, -0.06901655,\n",
              "        -0.29239727,  0.50179527, -2.42513911,  0.25450273,  0.19296728,\n",
              "         0.1186891 ,  0.29327831, -0.16830326, -0.22334818, -0.04134442,\n",
              "        -0.35267909, -0.16862203,  0.04587618,  0.24646181, -0.570765  ]),\n",
              " array([ 0.2536078 ,  0.3724832 , -0.1846821 , -0.12850703,  0.28936399,\n",
              "        -0.23278265,  0.8501393 , -0.1701529 ,  0.20807308,  0.12379522,\n",
              "        -0.28887245,  0.32775341, -3.35859502, -0.38939615,  0.1271752 ,\n",
              "         0.45476969,  0.35923436, -0.24164749, -0.13419285, -0.4213013 ,\n",
              "         0.00544005, -0.1669533 , -0.36361965,  0.07723487, -0.47001651]),\n",
              " array([ 0.30820342,  0.22154514, -0.0791861 , -0.26460981,  0.2494519 ,\n",
              "        -0.21569246,  0.66611024, -0.50444407,  0.20155141, -0.1183818 ,\n",
              "        -0.16453705,  0.40575037, -3.02244533,  0.02152344,  0.27939673,\n",
              "         0.4475321 ,  0.49220688, -0.15404753, -0.14480147, -0.13095064,\n",
              "        -0.13233638, -0.23184707, -0.22364678,  0.14285858, -0.45179712]),\n",
              " array([ 0.09728   ,  0.10916283,  0.06654966, -0.06825   , -0.17157101,\n",
              "        -0.418865  ,  0.80773834,  0.234649  , -0.12625   , -0.51834667,\n",
              "        -0.15764   ,  0.15679   , -3.0211    ,  0.11456001,  0.0444985 ,\n",
              "         0.13322167,  0.12633075, -0.230135  , -0.44463533, -0.16808767,\n",
              "        -0.13538966, -0.06463333, -0.29808583,  0.04079584, -0.587425  ])]"
            ]
          },
          "metadata": {},
          "execution_count": 32
        }
      ]
    },
    {
      "cell_type": "code",
      "source": [
        "from sklearn.model_selection import train_test_split\n",
        "X_train, X_test, y_train, y_test = train_test_split(X, y, test_size=0.2,stratify=y)\n",
        "from sklearn.linear_model import LogisticRegression\n",
        "classifier = LogisticRegression()\n",
        "classifier.fit(X_train,y_train)"
      ],
      "metadata": {
        "colab": {
          "base_uri": "https://localhost:8080/"
        },
        "id": "0yLSHeS52l-z",
        "outputId": "ad7c27c6-a3dc-403a-ce51-8214a808703f"
      },
      "id": "0yLSHeS52l-z",
      "execution_count": 30,
      "outputs": [
        {
          "output_type": "execute_result",
          "data": {
            "text/plain": [
              "LogisticRegression()"
            ]
          },
          "metadata": {},
          "execution_count": 30
        }
      ]
    },
    {
      "cell_type": "code",
      "source": [
        "from sklearn import metrics\n",
        "predicted = classifier.predict(X_test)\n",
        "print(\"Logistic Regression Accuracy:\",metrics.accuracy_score(y_test, predicted))\n",
        "print(\"Logistic Regression Precision:\",metrics.precision_score(y_test, predicted))\n",
        "print(\"Logistic Regression Recall:\",metrics.recall_score(y_test, predicted))"
      ],
      "metadata": {
        "colab": {
          "base_uri": "https://localhost:8080/"
        },
        "id": "WLS21qLB2mBj",
        "outputId": "7d3ce1f7-b270-48f2-b4db-9a73649d9c03"
      },
      "id": "WLS21qLB2mBj",
      "execution_count": 31,
      "outputs": [
        {
          "output_type": "stream",
          "name": "stdout",
          "text": [
            "Logistic Regression Accuracy: 0.93\n",
            "Logistic Regression Precision: 0.8888888888888888\n",
            "Logistic Regression Recall: 0.38095238095238093\n"
          ]
        }
      ]
    },
    {
      "cell_type": "code",
      "source": [],
      "metadata": {
        "id": "yvtoQcPB2mEf"
      },
      "id": "yvtoQcPB2mEf",
      "execution_count": null,
      "outputs": []
    },
    {
      "cell_type": "code",
      "source": [],
      "metadata": {
        "id": "mOV_HP5D2mHb"
      },
      "id": "mOV_HP5D2mHb",
      "execution_count": null,
      "outputs": []
    },
    {
      "cell_type": "code",
      "source": [],
      "metadata": {
        "id": "6J3vfkML2mJ9"
      },
      "id": "6J3vfkML2mJ9",
      "execution_count": null,
      "outputs": []
    },
    {
      "cell_type": "code",
      "execution_count": null,
      "id": "da27b247",
      "metadata": {
        "id": "da27b247"
      },
      "outputs": [],
      "source": []
    }
  ],
  "metadata": {
    "kernelspec": {
      "display_name": "Python 3 (ipykernel)",
      "language": "python",
      "name": "python3"
    },
    "language_info": {
      "codemirror_mode": {
        "name": "ipython",
        "version": 3
      },
      "file_extension": ".py",
      "mimetype": "text/x-python",
      "name": "python",
      "nbconvert_exporter": "python",
      "pygments_lexer": "ipython3",
      "version": "3.9.13"
    },
    "colab": {
      "provenance": [],
      "collapsed_sections": []
    }
  },
  "nbformat": 4,
  "nbformat_minor": 5
}